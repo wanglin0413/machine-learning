{
 "cells": [
  {
   "cell_type": "code",
   "execution_count": 4,
   "metadata": {},
   "outputs": [],
   "source": [
    "import numpy as np\n",
    "import pandas as pd"
   ]
  },
  {
   "cell_type": "code",
   "execution_count": 3,
   "metadata": {},
   "outputs": [],
   "source": [
    "from sklearn.utils import shuffle"
   ]
  },
  {
   "cell_type": "code",
   "execution_count": 5,
   "metadata": {},
   "outputs": [],
   "source": [
    "df = pd.read_csv(\"hw1_15_train.dat\", delim_whitespace=True,header=None, names=['x1','x2','x3','x4','y'])\n",
    "df['x0'] = 1"
   ]
  },
  {
   "cell_type": "code",
   "execution_count": 6,
   "metadata": {},
   "outputs": [],
   "source": [
    "def sign(x):\n",
    "    if x > 0:\n",
    "        return 1\n",
    "    else:\n",
    "        return -1"
   ]
  },
  {
   "cell_type": "code",
   "execution_count": 76,
   "metadata": {},
   "outputs": [],
   "source": [
    "def pca(data, label, iterator):\n",
    "    w = np.zeros(5)\n",
    "    update = 0\n",
    "    index = 0\n",
    "    while(True):\n",
    "        for i in range(400):\n",
    "            if index == 400:\n",
    "                return (w, update)\n",
    "            if update >= iterator:\n",
    "                return (w, update)\n",
    "            x = data[i]\n",
    "            y = label[i]\n",
    "            index += 1\n",
    "            if sign(np.dot(w, x)) != y:\n",
    "                w = w + x * y\n",
    "                update += 1\n",
    "                index = 0"
   ]
  },
  {
   "cell_type": "code",
   "execution_count": 74,
   "metadata": {},
   "outputs": [
    {
     "name": "stdout",
     "output_type": "stream",
     "text": [
      "(array([ 1.5420718 , -0.7915405 ,  1.1956525 ,  2.26438175, -1.5       ]), 45)\n"
     ]
    }
   ],
   "source": [
    "w = pca(df[['x1','x2','x3','x4','x0']].values, df['y'].values,10000)\n",
    "print(w)"
   ]
  },
  {
   "cell_type": "code",
   "execution_count": 75,
   "metadata": {},
   "outputs": [
    {
     "name": "stdout",
     "output_type": "stream",
     "text": [
      "40.0125\n"
     ]
    }
   ],
   "source": [
    "count = 0\n",
    "for i in range(2000):\n",
    "    df_temp = shuffle(df, random_state=i)\n",
    "    result = pca(df_temp[['x1','x2','x3','x4','x0']].values, df_temp['y'].values,10000)\n",
    "    count += result[1]\n",
    "print(count/2000)"
   ]
  },
  {
   "cell_type": "code",
   "execution_count": 78,
   "metadata": {},
   "outputs": [],
   "source": [
    "df_train = pd.read_csv(\"hw1_18_train.dat\", delim_whitespace=True,header=None, names=['x1','x2','x3','x4','y'])\n",
    "df_train['x0'] = 1\n",
    "train_data = df_train[['x1','x2','x3','x4','x0']].values\n",
    "train_label = df_train['y'].values"
   ]
  },
  {
   "cell_type": "code",
   "execution_count": 79,
   "metadata": {},
   "outputs": [],
   "source": [
    "df_test = pd.read_csv(\"hw1_18_test.dat\", delim_whitespace=True,header=None, names=['x1','x2','x3','x4','y'])\n",
    "df_test['x0'] = 1\n",
    "test_data = df_test[['x1','x2','x3','x4','x0']].values\n",
    "test_label = df_test['y'].values"
   ]
  },
  {
   "cell_type": "code",
   "execution_count": null,
   "metadata": {},
   "outputs": [],
   "source": [
    "def compute_error(w, data, label):\n",
    "    count = 0\n",
    "    for i in range(len(data)):\n",
    "        x = data[i]\n",
    "        y = label[i]\n",
    "        if sign(np.dot(w, x)) != y:\n",
    "            count+=1\n",
    "    return count/len(data)   "
   ]
  },
  {
   "cell_type": "code",
   "execution_count": 201,
   "metadata": {},
   "outputs": [],
   "source": [
    "def pocket(data, label, iterator):\n",
    "    w = np.zeros(5)\n",
    "    w_temp = w\n",
    "    error = 1\n",
    "    update = 0\n",
    "    while(True):        \n",
    "        i = np.random.randint(0,401)\n",
    "        if(sign(np.dot(w_temp, data[i])) != label[i]):\n",
    "            w_temp = w_temp + data[i] * label[i]\n",
    "            update +=1\n",
    "            error_temp = compute_error(w_temp, data, label)\n",
    "#             print(\"w_temp\", w_temp)\n",
    "#             print(\"error_temp:\", error_temp)\n",
    "            if(error_temp < error):\n",
    "                error = error_temp\n",
    "#                 print(\"error:\", error)\n",
    "                w = w_temp\n",
    "#                 print(\"w:\", w)\n",
    "        if(update >= iterator):\n",
    "            break           \n",
    "    return w"
   ]
  },
  {
   "cell_type": "code",
   "execution_count": 204,
   "metadata": {},
   "outputs": [
    {
     "name": "stdout",
     "output_type": "stream",
     "text": [
      "[-1.124359 -0.876309 -0.505491  1.801263  0.      ]\n",
      "0.146\n"
     ]
    }
   ],
   "source": [
    "w = pocket(train_data, train_label, 50)\n",
    "print(w)\n",
    "error = compute_error(w,test_data, test_label)\n",
    "print(error)"
   ]
  },
  {
   "cell_type": "code",
   "execution_count": 205,
   "metadata": {},
   "outputs": [
    {
     "name": "stdout",
     "output_type": "stream",
     "text": [
      "0.1377919999999997\n"
     ]
    }
   ],
   "source": [
    "error = 0\n",
    "for i in range(2000):    \n",
    "    w = pocket(train_data, train_label, 50)\n",
    "    error += compute_error(w, test_data, test_label)\n",
    "print(error/2000)  "
   ]
  },
  {
   "cell_type": "code",
   "execution_count": 85,
   "metadata": {},
   "outputs": [
    {
     "name": "stdout",
     "output_type": "stream",
     "text": [
      "0.29199999999999254\n"
     ]
    }
   ],
   "source": [
    "error = 0\n",
    "for i in range(2000):    \n",
    "    w = pca(train_data, train_label, 50)[0]\n",
    "    error += compute_error(w, test_data, test_label)\n",
    "print(error/2000)"
   ]
  },
  {
   "cell_type": "code",
   "execution_count": 206,
   "metadata": {},
   "outputs": [
    {
     "name": "stdout",
     "output_type": "stream",
     "text": [
      "0.11714300000000016\n"
     ]
    }
   ],
   "source": [
    "error = 0\n",
    "for i in range(2000):    \n",
    "    w = pocket(train_data, train_label, 100)\n",
    "    error += compute_error(w, test_data, test_label)\n",
    "print(error/2000)"
   ]
  },
  {
   "cell_type": "code",
   "execution_count": null,
   "metadata": {},
   "outputs": [],
   "source": []
  }
 ],
 "metadata": {
  "kernelspec": {
   "display_name": "Python 3",
   "language": "python",
   "name": "python3"
  },
  "language_info": {
   "codemirror_mode": {
    "name": "ipython",
    "version": 3
   },
   "file_extension": ".py",
   "mimetype": "text/x-python",
   "name": "python",
   "nbconvert_exporter": "python",
   "pygments_lexer": "ipython3",
   "version": "3.7.0"
  }
 },
 "nbformat": 4,
 "nbformat_minor": 2
}
