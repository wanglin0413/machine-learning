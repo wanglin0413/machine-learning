{
 "cells": [
  {
   "cell_type": "code",
   "execution_count": 36,
   "metadata": {},
   "outputs": [],
   "source": [
    "import math\n",
    "import pandas as pd\n",
    "import numpy as np"
   ]
  },
  {
   "cell_type": "code",
   "execution_count": 16,
   "metadata": {},
   "outputs": [],
   "source": [
    "def computeVcBound(n, dvc, delta):\n",
    "    return math.sqrt(8*math.log(4*math.pow(2*n, dvc)/delta)/n)"
   ]
  },
  {
   "cell_type": "code",
   "execution_count": 17,
   "metadata": {},
   "outputs": [],
   "source": [
    "def computeRademache_penalty_bound(n, dvc, delta):\n",
    "    return math.sqrt(2*math.log(2*n*math.pow(n, dvc))/n) + math.sqrt(2/n*math.log(1/delta)) + 1/n"
   ]
  },
  {
   "cell_type": "code",
   "execution_count": 18,
   "metadata": {},
   "outputs": [],
   "source": [
    "def compute_Parrondo_VandenBroek_bound(n, dvc, delta):\n",
    "    e = 0\n",
    "    result = math.sqrt(1/n*(2*e + math.log(6*math.pow(2*n, dvc)/delta)))\n",
    "    while(result > e):\n",
    "        e = result\n",
    "        result = math.sqrt(1/n*(2*e + math.log(6*math.pow(2*n, dvc)/delta)))\n",
    "    return result"
   ]
  },
  {
   "cell_type": "code",
   "execution_count": 27,
   "metadata": {},
   "outputs": [],
   "source": [
    "def compute_Devroye_bound(n, dvc, delta):\n",
    "    e = 0\n",
    "    result = np.sqrt((4*e*(1+e))/2*n + np.log(4*np.power(n*n, dvc)/delta))\n",
    "    while(result > e):\n",
    "        e = result\n",
    "        result = np.sqrt((4*e*(1+e))/2*n + np.log(4*np.power(n*n, dvc)/delta))\n",
    "    return result"
   ]
  },
  {
   "cell_type": "code",
   "execution_count": 28,
   "metadata": {},
   "outputs": [],
   "source": [
    "def computeVVc_bound(n, dvc, delta):\n",
    "    return math.sqrt(16*math.log(2*math.pow(n, dvc)/math.sqrt(delta))/n)"
   ]
  },
  {
   "cell_type": "code",
   "execution_count": 29,
   "metadata": {
    "scrolled": true
   },
   "outputs": [],
   "source": [
    "def compare_bound(n, dvc, delta):\n",
    "    print(computeVcBound(n, dvc, delta))\n",
    "\n",
    "    print(computeRademache_penalty_bound(n, dvc, delta))\n",
    "\n",
    "    print(compute_Parrondo_VandenBroek_bound(n, dvc, delta))\n",
    "\n",
    "    print(compute_Devroye_bound(n, dvc, delta))\n",
    "\n",
    "    print(computeVVc_bound(n, dvc, delta))"
   ]
  },
  {
   "cell_type": "code",
   "execution_count": 30,
   "metadata": {},
   "outputs": [
    {
     "name": "stdout",
     "output_type": "stream",
     "text": [
      "13.828161484991483\n",
      "7.048776564183685\n",
      "5.101361981989992\n",
      "inf\n",
      "16.26411106101204\n"
     ]
    },
    {
     "name": "stderr",
     "output_type": "stream",
     "text": [
      "/usr/local/lib/python3.7/site-packages/ipykernel_launcher.py:6: RuntimeWarning: overflow encountered in double_scalars\n",
      "  \n"
     ]
    }
   ],
   "source": [
    "compare_bound(5, 50, 0.05)"
   ]
  },
  {
   "cell_type": "code",
   "execution_count": 61,
   "metadata": {},
   "outputs": [],
   "source": [
    "def generate_data(size):\n",
    "    x = np.random.uniform(-1, 1, size).reshape(size,1)\n",
    "    y = np.sign(x)\n",
    "    noise_index = np.random.choice(len(y),int(size*0.2))\n",
    "    y[noise_index] *= -1\n",
    "    return (x, y)"
   ]
  },
  {
   "cell_type": "code",
   "execution_count": 97,
   "metadata": {},
   "outputs": [],
   "source": [
    "def pocket(data, label, iterator):\n",
    "    data = np.insert(data, 0, values=1, axis=1)\n",
    "    shape = data.shape\n",
    "    w = np.zeros(shape[1])\n",
    "    w_temp = w\n",
    "    error = 1\n",
    "    update = 0\n",
    "    while(True):        \n",
    "        i = np.random.randint(0, len(data))\n",
    "        if(np.sign(np.dot(w_temp, data[i])) != label[i]):\n",
    "            w_temp = w_temp + data[i] * label[i]\n",
    "            update +=1\n",
    "            error_temp = compute_error(w_temp, data, label)\n",
    "            if(error_temp < error):\n",
    "                error = error_temp\n",
    "                w = w_temp\n",
    "        if(update >= iterator):\n",
    "            break           \n",
    "    return (w, error)"
   ]
  },
  {
   "cell_type": "code",
   "execution_count": 66,
   "metadata": {},
   "outputs": [],
   "source": [
    "def compute_error(w, data, label):\n",
    "    count = 0\n",
    "    for i in range(len(data)):\n",
    "        x = data[i]\n",
    "        y = label[i]\n",
    "        if np.sign(np.dot(w, x)) != y:\n",
    "            count+=1\n",
    "    return count/len(data)  "
   ]
  },
  {
   "cell_type": "code",
   "execution_count": 131,
   "metadata": {},
   "outputs": [],
   "source": [
    "import time"
   ]
  },
  {
   "cell_type": "code",
   "execution_count": 135,
   "metadata": {},
   "outputs": [
    {
     "name": "stdout",
     "output_type": "stream",
     "text": [
      "0\n",
      "50\n",
      "100\n",
      "150\n",
      "200\n",
      "250\n",
      "300\n",
      "350\n",
      "400\n",
      "450\n",
      "500\n",
      "550\n",
      "600\n",
      "650\n",
      "700\n",
      "750\n",
      "800\n",
      "850\n",
      "900\n",
      "950\n",
      "1000\n",
      "1050\n",
      "1100\n",
      "1150\n",
      "1200\n",
      "1250\n",
      "1300\n",
      "1350\n",
      "1400\n",
      "1450\n",
      "1500\n",
      "1550\n",
      "1600\n",
      "1650\n",
      "1700\n",
      "1750\n",
      "1800\n",
      "1850\n",
      "1900\n",
      "1950\n",
      "2000\n",
      "2050\n",
      "2100\n",
      "2150\n",
      "2200\n",
      "2250\n",
      "2300\n",
      "2350\n",
      "2400\n",
      "2450\n",
      "2500\n",
      "2550\n",
      "2600\n",
      "2650\n",
      "2700\n",
      "2750\n",
      "2800\n",
      "2850\n",
      "2900\n",
      "2950\n",
      "3000\n",
      "3050\n",
      "3100\n",
      "3150\n",
      "3200\n",
      "3250\n",
      "3300\n",
      "3350\n",
      "3400\n",
      "3450\n",
      "3500\n",
      "3550\n",
      "3600\n",
      "3650\n",
      "3700\n",
      "3750\n",
      "3800\n",
      "3850\n",
      "3900\n",
      "3950\n",
      "4000\n",
      "4050\n",
      "4100\n",
      "4150\n",
      "4200\n",
      "4250\n",
      "4300\n",
      "4350\n",
      "4400\n",
      "4450\n",
      "4500\n",
      "4550\n",
      "4600\n",
      "4650\n",
      "4700\n",
      "4750\n",
      "4800\n",
      "4850\n",
      "4900\n",
      "4950\n",
      "0.18181000000000702\n",
      "0.2484994066157117\n"
     ]
    }
   ],
   "source": [
    "error_in = 0\n",
    "error_out = 0\n",
    "for i in range(5000):\n",
    "    if(i % 50 == 0):\n",
    "        print(i)\n",
    "        time.sleep(1)\n",
    "    data = generate_data(20)\n",
    "    result = pocket(data[0], data[1], 50)\n",
    "    error_in += result[1]\n",
    "    w = result[0]\n",
    "    error_out += (0.5 + 0.3*w[1]*(np.abs(w[0]/w[1])-1))\n",
    "print(error_in/5000)\n",
    "print(error_out/5000)"
   ]
  },
  {
   "cell_type": "code",
   "execution_count": 37,
   "metadata": {},
   "outputs": [],
   "source": [
    "df_train = pd.read_csv(\"hw2_train.dat\", delim_whitespace=True,header=None, names=['x1','x2','x3','x4','y'])\n",
    "train_data = df_train[['x1','x2','x3','x4']].values\n",
    "train_label = df_train['y'].values\n",
    "\n",
    "df_test = pd.read_csv(\"hw2_test.dat\", delim_whitespace=True,header=None, names=['x1','x2','x3','x4','y'])\n",
    "test_data = df_test[['x1','x2','x3','x4']].values\n",
    "test_label = df_test['y'].values"
   ]
  },
  {
   "cell_type": "code",
   "execution_count": 151,
   "metadata": {},
   "outputs": [],
   "source": [
    "def multiple_d_dicision_stump(data, label):\n",
    "    shape = data.shape\n",
    "    rows = shape[0]\n",
    "    columns = shape[1]\n",
    "    error_in = 1\n",
    "    w = np.zeros(2)\n",
    "    d = 0\n",
    "    for column in range(columns):\n",
    "        x = data[:,column].reshape(rows,1)\n",
    "        y = label.reshape(rows,1)\n",
    "        result = pocket(x, y, 50)\n",
    "        if(result[1] < error_in):\n",
    "            error_in = result[1]\n",
    "            w = result[0]\n",
    "            d = column\n",
    "    return (d, w, error_in)"
   ]
  },
  {
   "cell_type": "code",
   "execution_count": 176,
   "metadata": {},
   "outputs": [
    {
     "name": "stdout",
     "output_type": "stream",
     "text": [
      "(0, array([ 2.   , -0.364]), 0.32)\n"
     ]
    }
   ],
   "source": [
    "result = multiple_d_dicision_stump(train_data, train_label)\n",
    "d = result[0]\n",
    "w = result[1]\n",
    "print(result)"
   ]
  },
  {
   "cell_type": "code",
   "execution_count": 177,
   "metadata": {},
   "outputs": [
    {
     "data": {
      "text/plain": [
       "0.436"
      ]
     },
     "execution_count": 177,
     "metadata": {},
     "output_type": "execute_result"
    }
   ],
   "source": [
    "data = test_data[:,d].reshape(len(test_data), 1)\n",
    "data = np.insert(data, 0, values=1, axis=1)\n",
    "\n",
    "error_out = compute_error(w, data, test_label)\n",
    "\n",
    "error_out"
   ]
  },
  {
   "cell_type": "code",
   "execution_count": null,
   "metadata": {},
   "outputs": [],
   "source": []
  }
 ],
 "metadata": {
  "kernelspec": {
   "display_name": "Python 3",
   "language": "python",
   "name": "python3"
  },
  "language_info": {
   "codemirror_mode": {
    "name": "ipython",
    "version": 3
   },
   "file_extension": ".py",
   "mimetype": "text/x-python",
   "name": "python",
   "nbconvert_exporter": "python",
   "pygments_lexer": "ipython3",
   "version": "3.7.0"
  }
 },
 "nbformat": 4,
 "nbformat_minor": 2
}
