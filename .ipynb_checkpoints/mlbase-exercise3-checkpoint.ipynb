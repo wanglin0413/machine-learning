{
 "cells": [
  {
   "cell_type": "code",
   "execution_count": 1,
   "metadata": {},
   "outputs": [],
   "source": [
    "import numpy as np"
   ]
  },
  {
   "cell_type": "code",
   "execution_count": 23,
   "metadata": {},
   "outputs": [],
   "source": [
    "def gradient(u, v):\n",
    "    temp_u = np.exp(u) + v*np.exp(u*v) + 2*u - 2*v -3\n",
    "    temp_v = 2 * np.exp(2*v) + u*np.exp(u*v) - 2*u + 4*v - 2\n",
    "    return (temp_u, temp_v)"
   ]
  },
  {
   "cell_type": "code",
   "execution_count": 24,
   "metadata": {},
   "outputs": [],
   "source": [
    "u = 0\n",
    "v = 0\n",
    "for i in range(5):\n",
    "    result = gradient(u, v)\n",
    "    u -= 0.01*result[0]\n",
    "    v -= 0.01*result[1]"
   ]
  },
  {
   "cell_type": "code",
   "execution_count": 25,
   "metadata": {},
   "outputs": [
    {
     "data": {
      "text/plain": [
       "2.8250003566832635"
      ]
     },
     "execution_count": 25,
     "metadata": {},
     "output_type": "execute_result"
    }
   ],
   "source": [
    "Euv = np.exp(u) + np.exp(2*v) + np.exp(u*v) + u*u -2*u*v + 2*v*v -3*u -2*v\n",
    "Euv"
   ]
  },
  {
   "cell_type": "code",
   "execution_count": 39,
   "metadata": {},
   "outputs": [],
   "source": [
    "def newtonGradient(u,v):\n",
    "    dudv = -1\n",
    "    dudu = 3\n",
    "    dvdu = -1\n",
    "    dvdv = 8\n",
    "    hessian = np.mat([[dudv,dudu],[dvdu,dvdv]])\n",
    "    du = 3*u - v -2\n",
    "    dv = 8*v -u\n",
    "    deltaE = [du,dv]\n",
    "    result = np.dot(hessian.I, deltaE)\n",
    "    return result"
   ]
  },
  {
   "cell_type": "code",
   "execution_count": 40,
   "metadata": {},
   "outputs": [
    {
     "name": "stdout",
     "output_type": "stream",
     "text": [
      "[[3.2 0.4]]\n",
      "[[3.0528 0.3816]]\n",
      "[[2.9123712 0.3640464]]\n",
      "[[2.77840212 0.34730027]]\n",
      "[[2.65059563 0.33132445]]\n"
     ]
    }
   ],
   "source": [
    "u = 0\n",
    "v = 0\n",
    "for i in range(5):\n",
    "    result = newtonGradient(u, v)\n",
    "    print(result)\n",
    "    u += 0.01* result[0,0]\n",
    "    v += 0.01* result[0,1]"
   ]
  },
  {
   "cell_type": "code",
   "execution_count": 41,
   "metadata": {},
   "outputs": [
    {
     "data": {
      "text/plain": [
       "2.7392831519406657"
      ]
     },
     "execution_count": 41,
     "metadata": {},
     "output_type": "execute_result"
    }
   ],
   "source": [
    "Euv = np.exp(u) + np.exp(2*v) + np.exp(u*v) + u*u -2*u*v + 2*v*v -3*u -2*v\n",
    "Euv"
   ]
  },
  {
   "cell_type": "code",
   "execution_count": 42,
   "metadata": {},
   "outputs": [],
   "source": [
    "def generateData():\n",
    "    X = np.random.uniform(-1,1,size=(1000,2))\n",
    "    Y = np.array([[np.sign(x[0]*x[0] + x[1]*x[1] -0.6)] for x in X])\n",
    "    noise_index = np.random.choice(len(Y),int(len(Y)* 0.1))\n",
    "    Y[noise_index] *= -1\n",
    "    return (X, Y)"
   ]
  },
  {
   "cell_type": "code",
   "execution_count": 75,
   "metadata": {},
   "outputs": [],
   "source": [
    "def linear_regression(data, label):\n",
    "    data = np.insert(data, 0, values=1, axis=1)\n",
    "    temp = np.mat(np.dot(data.T, data))\n",
    "    hessian = np.dot(temp.I, data.T)\n",
    "    w = np.dot(hessian,label)\n",
    "    return w"
   ]
  },
  {
   "cell_type": "code",
   "execution_count": 83,
   "metadata": {},
   "outputs": [],
   "source": [
    "def compute_linear_regression_error(X, Y, w):\n",
    "    y_temp = np.dot(X,w)\n",
    "    resultY = np.sign(y_temp)\n",
    "    return (Y!=resultY).sum()/len(Y)"
   ]
  },
  {
   "cell_type": "code",
   "execution_count": 84,
   "metadata": {},
   "outputs": [
    {
     "name": "stdout",
     "output_type": "stream",
     "text": [
      "0\n",
      "100\n",
      "200\n",
      "300\n",
      "400\n",
      "500\n",
      "600\n",
      "700\n",
      "800\n",
      "900\n",
      "0.5046430000000008\n"
     ]
    }
   ],
   "source": [
    "err = 0\n",
    "for i in range(1000):\n",
    "    data = generateData()\n",
    "    w = linear_regression(data[0], data[1])\n",
    "    X = np.insert(data[0], 0, values=1, axis=1)\n",
    "    err += compute_linear_regression_error(X, data[1],w)\n",
    "    if(i%100 == 0):\n",
    "        print(i)\n",
    "print(err/1000)    "
   ]
  },
  {
   "cell_type": "code",
   "execution_count": 78,
   "metadata": {},
   "outputs": [],
   "source": [
    "def transformX(X):\n",
    "    Xprime = [[x[0], x[1], x[0]*x[1], x[0]*x[0], x[1]*x[1]] for x in X]\n",
    "    return Xprime"
   ]
  },
  {
   "cell_type": "code",
   "execution_count": 80,
   "metadata": {},
   "outputs": [],
   "source": [
    "def choiceBetweenW(w, X):\n",
    "    X = np.insert(X, 0, values=1, axis=1)\n",
    "    y_temp = np.dot(X,w)\n",
    "    resultY = np.sign(y_temp)\n",
    "    w1 = [-1, -1.5, 0.08, 0.13, 0.05, 0.05]\n",
    "    w2 = [-1, -0.05, 0.08, 0.13, 1.5, 1.5]\n",
    "    w3 = [-1, -0.05, 0.08, 0.13, 1.5, 15]\n",
    "    w4 = [-1, -1.5, 0.08, 0.13, 0.05, 1.5]\n",
    "    w5 = [-1, -0.05, 0.08, 0.13, 15, 1.5]\n",
    "    \n",
    "    wlist = []\n",
    "    wlist.append(w1)\n",
    "    wlist.append(w2)\n",
    "    wlist.append(w3)\n",
    "    wlist.append(w4)\n",
    "    max_err = 0\n",
    "    result = None\n",
    "    for eachw in wlist:\n",
    "        err = compute_linear_regression_error(X,resultY,eachw)\n",
    "        if(err > max_err):\n",
    "            max_err = err\n",
    "            result = eachw\n",
    "    return result\n",
    "    "
   ]
  },
  {
   "cell_type": "code",
   "execution_count": 85,
   "metadata": {},
   "outputs": [
    {
     "data": {
      "text/plain": [
       "matrix([[-0.99657457],\n",
       "        [-0.06605464],\n",
       "        [ 0.00901934],\n",
       "        [ 0.03360177],\n",
       "        [ 1.57036257],\n",
       "        [ 1.53179721]])"
      ]
     },
     "execution_count": 85,
     "metadata": {},
     "output_type": "execute_result"
    }
   ],
   "source": [
    "data = generateData()\n",
    "xPrime = transformX(data[0])\n",
    "w = linear_regression(xPrime, data[1])\n",
    "w"
   ]
  },
  {
   "cell_type": "code",
   "execution_count": 86,
   "metadata": {},
   "outputs": [
    {
     "data": {
      "text/plain": [
       "[-1, -1.5, 0.08, 0.13, 0.05, 0.05]"
      ]
     },
     "execution_count": 86,
     "metadata": {},
     "output_type": "execute_result"
    }
   ],
   "source": [
    "wPrime = choiceBetweenW(w, xPrime)\n",
    "wPrime"
   ]
  },
  {
   "cell_type": "code",
   "execution_count": 122,
   "metadata": {},
   "outputs": [
    {
     "name": "stdout",
     "output_type": "stream",
     "text": [
      "0\n",
      "0.202\n",
      "100\n",
      "18.122999999999998\n",
      "200\n",
      "36.06899999999999\n",
      "300\n",
      "53.98999999999996\n",
      "400\n",
      "72.762\n",
      "500\n",
      "90.62399999999998\n",
      "600\n",
      "108.22199999999995\n",
      "700\n",
      "126.44899999999991\n",
      "800\n",
      "144.87699999999987\n",
      "900\n",
      "163.41300000000004\n",
      "0.18113900000000005\n"
     ]
    }
   ],
   "source": [
    "err = 0\n",
    "for i in range(1000):\n",
    "    data = generateData()\n",
    "    Xprime = transformX(data[0])\n",
    "    w = pocket(Xprime, data[1], 50)[0]\n",
    "    testData = generateData()\n",
    "    testX = np.insert(transformX(testData[0]), 0, values=1, axis=1)\n",
    "    err += compute_error(w, testX, testData[1])\n",
    "    if(i%100 == 0):\n",
    "        print(i)\n",
    "        print(err)\n",
    "print(err/1000)"
   ]
  },
  {
   "cell_type": "code",
   "execution_count": 8,
   "metadata": {},
   "outputs": [],
   "source": [
    "def theta(x):\n",
    "    return np.divide(1, 1+ np.exp(np.multiply(-1,x)))"
   ]
  },
  {
   "cell_type": "code",
   "execution_count": 146,
   "metadata": {},
   "outputs": [],
   "source": [
    "def NewtonGradient(X,Y,w):\n",
    "    temp = np.zeros(np.shape(X)[1])\n",
    "    for i in range(len(X)):\n",
    "        x = X[i]\n",
    "        y = Y[i]\n",
    "        temp = np.add(temp,np.multiply(theta(-1*y*np.dot(w,x)), np.multiply(-1*y, x)))\n",
    "    return np.divide(temp, len(X))"
   ]
  },
  {
   "cell_type": "code",
   "execution_count": 10,
   "metadata": {},
   "outputs": [],
   "source": [
    "def update(ita,w,gradient):\n",
    "    return np.subtract(w, np.multiply(ita, gradient))"
   ]
  },
  {
   "cell_type": "code",
   "execution_count": 5,
   "metadata": {},
   "outputs": [],
   "source": [
    "import pandas as pd"
   ]
  },
  {
   "cell_type": "code",
   "execution_count": 6,
   "metadata": {},
   "outputs": [],
   "source": [
    "df_train = pd.read_csv(\"hw3_train.dat\", delim_whitespace=True,header=None)\n",
    "X_train = df_train.loc[:,:19].values\n",
    "X_train = np.insert(X_train, 0, values=1, axis=1)\n",
    "Y_train = df_train[20].values"
   ]
  },
  {
   "cell_type": "code",
   "execution_count": 177,
   "metadata": {},
   "outputs": [],
   "source": [
    "def logistic(X, Y,ita,T):    \n",
    "    d = np.shape(X)[1]\n",
    "    N = np.shape(X)[0]\n",
    "    w = np.zeros(d)\n",
    "    for i in range(T):\n",
    "        gradient = NewtonGradient(X,Y,w)\n",
    "        if(gradient.sum() == 0):\n",
    "            break\n",
    "        w = update(ita,w,gradient)\n",
    "    return w"
   ]
  },
  {
   "cell_type": "code",
   "execution_count": 186,
   "metadata": {},
   "outputs": [],
   "source": [
    "w = logistic(X_train, Y_train, 0.001, 2000)"
   ]
  },
  {
   "cell_type": "code",
   "execution_count": 187,
   "metadata": {},
   "outputs": [
    {
     "data": {
      "text/plain": [
       "array([ 0.01878417, -0.01260595,  0.04084862, -0.03266317,  0.01502334,\n",
       "       -0.03667437,  0.01255934,  0.04815065, -0.02206419,  0.02479605,\n",
       "        0.06899284,  0.0193719 , -0.01988549, -0.0087049 ,  0.04605863,\n",
       "        0.05793382,  0.061218  , -0.04720391,  0.06070375, -0.01610907,\n",
       "       -0.03484607])"
      ]
     },
     "execution_count": 187,
     "metadata": {},
     "output_type": "execute_result"
    }
   ],
   "source": [
    "w"
   ]
  },
  {
   "cell_type": "code",
   "execution_count": 13,
   "metadata": {},
   "outputs": [],
   "source": [
    "df_test = pd.read_csv(\"hw3_test.dat\", delim_whitespace=True,header=None)\n",
    "X_test = df_train.loc[:,:19].values\n",
    "X_test = np.insert(X_test, 0, values=1, axis=1)\n",
    "Y_test = df_train[20].values"
   ]
  },
  {
   "cell_type": "code",
   "execution_count": 14,
   "metadata": {},
   "outputs": [],
   "source": [
    "def compute_error(X, Y, w):\n",
    "    y_temp = theta(np.dot(X,w))\n",
    "    y = np.zeros(len(y_temp))\n",
    "    y[y_temp>0.5] = 1\n",
    "    y[y_temp == 0.5] = 1\n",
    "    y[y_temp<0.5] = -1\n",
    "    count = 0\n",
    "    for i in range(len(Y)):\n",
    "        if(Y[i] != y[i]):\n",
    "            count+=1\n",
    "    return count/len(Y)"
   ]
  },
  {
   "cell_type": "code",
   "execution_count": 17,
   "metadata": {},
   "outputs": [],
   "source": [
    "def randomGradient(X,Y,w,n):\n",
    "    temp = np.zeros(np.shape(X)[1])\n",
    "    for i in range(n):\n",
    "        #randint = np.random.randint(len(X))\n",
    "        x = X[i]\n",
    "        y = Y[i]\n",
    "        temp = np.add(temp,np.multiply(theta(-1*y*np.dot(w,x)), np.multiply(-1*y, x)))\n",
    "    return np.divide(temp, n)"
   ]
  },
  {
   "cell_type": "code",
   "execution_count": 18,
   "metadata": {},
   "outputs": [],
   "source": [
    "def logistic_random_gradient(X, Y,ita,T):    \n",
    "    d = np.shape(X)[1]\n",
    "    N = np.shape(X)[0]\n",
    "    w = np.zeros(d)\n",
    "    n = 0\n",
    "    for i in range(T):\n",
    "        n+=1\n",
    "        if(n >= len(X)):\n",
    "            n = 1\n",
    "        gradient = randomGradient(X,Y,w,n)\n",
    "        if(gradient.sum() == 0):\n",
    "            break\n",
    "        w = update(ita,w,gradient)\n",
    "    return w"
   ]
  },
  {
   "cell_type": "code",
   "execution_count": 21,
   "metadata": {},
   "outputs": [],
   "source": [
    "w = logistic_random_gradient(X_train, Y_train, 0.01, 2000)"
   ]
  },
  {
   "cell_type": "code",
   "execution_count": 22,
   "metadata": {},
   "outputs": [
    {
     "data": {
      "text/plain": [
       "0.228"
      ]
     },
     "execution_count": 22,
     "metadata": {},
     "output_type": "execute_result"
    }
   ],
   "source": [
    "compute_error(X_test, Y_test, w)"
   ]
  },
  {
   "cell_type": "code",
   "execution_count": null,
   "metadata": {},
   "outputs": [],
   "source": []
  }
 ],
 "metadata": {
  "kernelspec": {
   "display_name": "Python 3",
   "language": "python",
   "name": "python3"
  },
  "language_info": {
   "codemirror_mode": {
    "name": "ipython",
    "version": 3
   },
   "file_extension": ".py",
   "mimetype": "text/x-python",
   "name": "python",
   "nbconvert_exporter": "python",
   "pygments_lexer": "ipython3",
   "version": "3.7.0"
  }
 },
 "nbformat": 4,
 "nbformat_minor": 2
}
